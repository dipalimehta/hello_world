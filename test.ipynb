{
 "cells": [
  {
   "cell_type": "code",
   "execution_count": 1,
   "metadata": {},
   "outputs": [],
   "source": [
    "import os\n",
    "from random import randint\n"
   ]
  },
  {
   "cell_type": "code",
   "execution_count": 9,
   "metadata": {},
   "outputs": [
    {
     "name": "stdout",
     "output_type": "stream",
     "text": [
      "1days ago\n",
      "2days ago\n",
      "3days ago\n",
      "4days ago\n",
      "5days ago\n",
      "6days ago\n",
      "7days ago\n",
      "8days ago\n",
      "9days ago\n",
      "10days ago\n",
      "11days ago\n",
      "12days ago\n",
      "13days ago\n",
      "14days ago\n",
      "15days ago\n",
      "16days ago\n",
      "17days ago\n",
      "18days ago\n",
      "19days ago\n",
      "20days ago\n",
      "21days ago\n",
      "22days ago\n",
      "23days ago\n",
      "24days ago\n",
      "25days ago\n",
      "26days ago\n",
      "27days ago\n",
      "28days ago\n",
      "29days ago\n",
      "30days ago\n",
      "31days ago\n",
      "32days ago\n",
      "33days ago\n",
      "34days ago\n",
      "35days ago\n",
      "36days ago\n",
      "37days ago\n",
      "38days ago\n",
      "39days ago\n",
      "40days ago\n",
      "41days ago\n",
      "42days ago\n",
      "43days ago\n",
      "44days ago\n",
      "45days ago\n",
      "46days ago\n",
      "47days ago\n",
      "48days ago\n",
      "49days ago\n",
      "50days ago\n",
      "51days ago\n",
      "52days ago\n",
      "53days ago\n",
      "54days ago\n",
      "55days ago\n",
      "56days ago\n",
      "57days ago\n",
      "58days ago\n",
      "59days ago\n",
      "60days ago\n",
      "61days ago\n",
      "62days ago\n",
      "63days ago\n",
      "64days ago\n",
      "65days ago\n",
      "66days ago\n",
      "67days ago\n",
      "68days ago\n",
      "69days ago\n",
      "70days ago\n",
      "71days ago\n",
      "72days ago\n",
      "73days ago\n",
      "74days ago\n",
      "75days ago\n",
      "76days ago\n",
      "77days ago\n",
      "78days ago\n",
      "79days ago\n",
      "80days ago\n",
      "81days ago\n",
      "82days ago\n",
      "83days ago\n",
      "84days ago\n",
      "85days ago\n",
      "86days ago\n",
      "87days ago\n",
      "88days ago\n",
      "89days ago\n",
      "90days ago\n",
      "91days ago\n",
      "92days ago\n",
      "93days ago\n",
      "94days ago\n",
      "95days ago\n",
      "96days ago\n",
      "97days ago\n",
      "98days ago\n",
      "99days ago\n",
      "100days ago\n",
      "101days ago\n",
      "102days ago\n",
      "103days ago\n",
      "104days ago\n",
      "105days ago\n",
      "106days ago\n",
      "107days ago\n",
      "108days ago\n",
      "109days ago\n",
      "110days ago\n",
      "111days ago\n",
      "112days ago\n",
      "113days ago\n",
      "114days ago\n",
      "115days ago\n",
      "116days ago\n",
      "117days ago\n",
      "118days ago\n",
      "119days ago\n",
      "120days ago\n",
      "121days ago\n",
      "122days ago\n",
      "123days ago\n",
      "124days ago\n",
      "125days ago\n",
      "126days ago\n",
      "127days ago\n",
      "128days ago\n",
      "129days ago\n",
      "130days ago\n",
      "131days ago\n",
      "132days ago\n",
      "133days ago\n",
      "134days ago\n",
      "135days ago\n",
      "136days ago\n",
      "137days ago\n",
      "138days ago\n",
      "139days ago\n",
      "140days ago\n",
      "141days ago\n",
      "142days ago\n",
      "143days ago\n",
      "144days ago\n",
      "145days ago\n",
      "146days ago\n",
      "147days ago\n",
      "148days ago\n",
      "149days ago\n",
      "150days ago\n",
      "151days ago\n",
      "152days ago\n",
      "153days ago\n",
      "154days ago\n",
      "155days ago\n",
      "156days ago\n",
      "157days ago\n",
      "158days ago\n",
      "159days ago\n",
      "160days ago\n",
      "161days ago\n",
      "162days ago\n",
      "163days ago\n",
      "164days ago\n",
      "165days ago\n",
      "166days ago\n",
      "167days ago\n",
      "168days ago\n",
      "169days ago\n",
      "170days ago\n",
      "171days ago\n",
      "172days ago\n",
      "173days ago\n",
      "174days ago\n",
      "175days ago\n",
      "176days ago\n",
      "177days ago\n",
      "178days ago\n",
      "179days ago\n",
      "180days ago\n",
      "181days ago\n",
      "182days ago\n",
      "183days ago\n",
      "184days ago\n",
      "185days ago\n",
      "186days ago\n",
      "187days ago\n",
      "188days ago\n",
      "189days ago\n",
      "190days ago\n",
      "191days ago\n",
      "192days ago\n",
      "193days ago\n",
      "194days ago\n",
      "195days ago\n",
      "196days ago\n",
      "197days ago\n",
      "198days ago\n",
      "199days ago\n",
      "200days ago\n",
      "201days ago\n",
      "202days ago\n",
      "203days ago\n",
      "204days ago\n",
      "205days ago\n",
      "206days ago\n",
      "207days ago\n",
      "208days ago\n",
      "209days ago\n",
      "210days ago\n",
      "211days ago\n",
      "212days ago\n",
      "213days ago\n",
      "214days ago\n",
      "215days ago\n",
      "216days ago\n",
      "217days ago\n",
      "218days ago\n",
      "219days ago\n",
      "220days ago\n",
      "221days ago\n",
      "222days ago\n",
      "223days ago\n",
      "224days ago\n",
      "225days ago\n",
      "226days ago\n",
      "227days ago\n",
      "228days ago\n",
      "229days ago\n",
      "230days ago\n",
      "231days ago\n",
      "232days ago\n",
      "233days ago\n",
      "234days ago\n",
      "235days ago\n",
      "236days ago\n",
      "237days ago\n",
      "238days ago\n",
      "239days ago\n",
      "240days ago\n",
      "241days ago\n",
      "242days ago\n",
      "243days ago\n",
      "244days ago\n",
      "245days ago\n",
      "246days ago\n",
      "247days ago\n",
      "248days ago\n",
      "249days ago\n",
      "250days ago\n",
      "251days ago\n",
      "252days ago\n",
      "253days ago\n",
      "254days ago\n",
      "255days ago\n",
      "256days ago\n",
      "257days ago\n",
      "258days ago\n",
      "259days ago\n",
      "260days ago\n",
      "261days ago\n",
      "262days ago\n",
      "263days ago\n",
      "264days ago\n",
      "265days ago\n",
      "266days ago\n",
      "267days ago\n",
      "268days ago\n",
      "269days ago\n",
      "270days ago\n",
      "271days ago\n",
      "272days ago\n",
      "273days ago\n",
      "274days ago\n",
      "275days ago\n",
      "276days ago\n",
      "277days ago\n",
      "278days ago\n",
      "279days ago\n",
      "280days ago\n",
      "281days ago\n",
      "282days ago\n",
      "283days ago\n",
      "284days ago\n",
      "285days ago\n",
      "286days ago\n",
      "287days ago\n",
      "288days ago\n",
      "289days ago\n",
      "290days ago\n",
      "291days ago\n",
      "292days ago\n",
      "293days ago\n",
      "294days ago\n",
      "295days ago\n",
      "296days ago\n",
      "297days ago\n",
      "298days ago\n",
      "299days ago\n",
      "300days ago\n",
      "301days ago\n",
      "302days ago\n",
      "303days ago\n",
      "304days ago\n",
      "305days ago\n",
      "306days ago\n",
      "307days ago\n",
      "308days ago\n",
      "309days ago\n",
      "310days ago\n",
      "311days ago\n",
      "312days ago\n",
      "313days ago\n",
      "314days ago\n",
      "315days ago\n",
      "316days ago\n",
      "317days ago\n",
      "318days ago\n",
      "319days ago\n",
      "320days ago\n",
      "321days ago\n",
      "322days ago\n",
      "323days ago\n",
      "324days ago\n",
      "325days ago\n",
      "326days ago\n",
      "327days ago\n",
      "328days ago\n",
      "329days ago\n",
      "330days ago\n",
      "331days ago\n",
      "332days ago\n",
      "333days ago\n",
      "334days ago\n",
      "335days ago\n",
      "336days ago\n",
      "337days ago\n",
      "338days ago\n",
      "339days ago\n",
      "340days ago\n",
      "341days ago\n",
      "342days ago\n",
      "343days ago\n",
      "344days ago\n",
      "345days ago\n",
      "346days ago\n",
      "347days ago\n",
      "348days ago\n",
      "349days ago\n",
      "350days ago\n",
      "351days ago\n",
      "352days ago\n",
      "353days ago\n",
      "354days ago\n",
      "355days ago\n",
      "356days ago\n",
      "357days ago\n",
      "358days ago\n",
      "359days ago\n",
      "360days ago\n",
      "361days ago\n",
      "362days ago\n",
      "363days ago\n",
      "364days ago\n"
     ]
    }
   ],
   "source": [
    " for i in range(1,365):\n",
    "    for j in range(0,randint(1,10)):\n",
    "        d = str(i) + 'days ago'\n",
    "        print(d)\n",
    "        break\n",
    "        with open('file.txt', 'a') as file:\n",
    "            file.write(d)\n",
    "        break"
   ]
  },
  {
   "cell_type": "code",
   "execution_count": 5,
   "metadata": {},
   "outputs": [
    {
     "data": {
      "text/plain": [
       "0"
      ]
     },
     "execution_count": 5,
     "metadata": {},
     "output_type": "execute_result"
    }
   ],
   "source": [
    "os.system('git add .')"
   ]
  },
  {
   "cell_type": "code",
   "execution_count": 6,
   "metadata": {},
   "outputs": [
    {
     "data": {
      "text/plain": [
       "129"
      ]
     },
     "execution_count": 6,
     "metadata": {},
     "output_type": "execute_result"
    }
   ],
   "source": [
    "os.system('git commit --date\"' + d + '\" -m \"commit\"')"
   ]
  },
  {
   "cell_type": "code",
   "execution_count": null,
   "metadata": {},
   "outputs": [],
   "source": [
    "git commit --date='4days ago' -m \"commit\"\n",
    "\n",
    "        \n",
    "        \n",
    "os.system('git push -u origin main')"
   ]
  },
  {
   "cell_type": "code",
   "execution_count": 1,
   "metadata": {},
   "outputs": [],
   "source": [
    "paths = [[\"London\",\"New York\"],[\"New York\",\"Lima\"],[\"Lima\",\"Sao Paulo\"]]"
   ]
  },
  {
   "cell_type": "code",
   "execution_count": 5,
   "metadata": {},
   "outputs": [
    {
     "name": "stdout",
     "output_type": "stream",
     "text": [
      "London\n",
      "New York\n",
      "New York\n",
      "Lima\n",
      "Lima\n",
      "Sao Paulo\n"
     ]
    }
   ],
   "source": [
    "for i in paths:\n",
    "    for j in i:\n",
    "        print(j)"
   ]
  },
  {
   "cell_type": "code",
   "execution_count": 10,
   "metadata": {},
   "outputs": [
    {
     "data": {
      "text/plain": [
       "1"
      ]
     },
     "execution_count": 10,
     "metadata": {},
     "output_type": "execute_result"
    }
   ],
   "source": [
    "cities = [j for i in paths for j in i]\n",
    "cities. count('London')"
   ]
  },
  {
   "cell_type": "code",
   "execution_count": 11,
   "metadata": {},
   "outputs": [],
   "source": [
    "d={}\n",
    "for city in cities:\n",
    "    d[city] = cities. count(city)"
   ]
  },
  {
   "cell_type": "code",
   "execution_count": 12,
   "metadata": {},
   "outputs": [
    {
     "data": {
      "text/plain": [
       "{'London': 1, 'New York': 2, 'Lima': 2, 'Sao Paulo': 1}"
      ]
     },
     "execution_count": 12,
     "metadata": {},
     "output_type": "execute_result"
    }
   ],
   "source": [
    "d"
   ]
  },
  {
   "cell_type": "code",
   "execution_count": 18,
   "metadata": {},
   "outputs": [
    {
     "name": "stdout",
     "output_type": "stream",
     "text": [
      "Sao Paulo\n"
     ]
    }
   ],
   "source": [
    "for path in paths:\n",
    "    if d[path[-1]] == 1:\n",
    "        print(path[-1])"
   ]
  },
  {
   "cell_type": "code",
   "execution_count": 19,
   "metadata": {},
   "outputs": [],
   "source": [
    "s = \"anagram\" \n",
    "t = \"nagaram\""
   ]
  },
  {
   "cell_type": "code",
   "execution_count": 36,
   "metadata": {},
   "outputs": [
    {
     "name": "stdout",
     "output_type": "stream",
     "text": [
      "a\n",
      "True\n",
      "n\n",
      "True\n",
      "g\n",
      "True\n",
      "r\n",
      "True\n",
      "m\n",
      "True\n"
     ]
    }
   ],
   "source": [
    "d_s = {}\n",
    "d_t = {}\n",
    "\n",
    "for letter in s:\n",
    "    d_s[letter] = s.count(letter)\n",
    "for letter in t:\n",
    "    d_t[letter] = t.count(letter)\n",
    "\n",
    "all(d_s[i] == d_t[i] for i in d_s.keys())\n",
    "\n"
   ]
  },
  {
   "cell_type": "code",
   "execution_count": 30,
   "metadata": {},
   "outputs": [
    {
     "data": {
      "text/plain": [
       "True"
      ]
     },
     "execution_count": 30,
     "metadata": {},
     "output_type": "execute_result"
    }
   ],
   "source": [
    "all(key in d_t for key in d_s.keys())"
   ]
  },
  {
   "cell_type": "code",
   "execution_count": 26,
   "metadata": {},
   "outputs": [
    {
     "data": {
      "text/plain": [
       "dict_keys(['a', 'n', 'g', 'r', 'm'])"
      ]
     },
     "execution_count": 26,
     "metadata": {},
     "output_type": "execute_result"
    }
   ],
   "source": [
    "d_s.keys()"
   ]
  },
  {
   "cell_type": "code",
   "execution_count": 24,
   "metadata": {},
   "outputs": [
    {
     "name": "stdout",
     "output_type": "stream",
     "text": [
      "{'a': 3, 'n': 1, 'g': 1, 'r': 1, 'm': 1}\n",
      "{'n': 1, 'a': 3, 'g': 1, 'r': 1, 'm': 1}\n"
     ]
    }
   ],
   "source": [
    "print(d_s)\n",
    "print(d_t)"
   ]
  },
  {
   "cell_type": "code",
   "execution_count": 38,
   "metadata": {},
   "outputs": [],
   "source": [
    "nums1 = [1,3]\n",
    "nums2 = [2]\n",
    "\n",
    "nums1.extend(nums2)"
   ]
  },
  {
   "cell_type": "code",
   "execution_count": 39,
   "metadata": {},
   "outputs": [
    {
     "data": {
      "text/plain": [
       "[1, 3, 2]"
      ]
     },
     "execution_count": 39,
     "metadata": {},
     "output_type": "execute_result"
    }
   ],
   "source": [
    "nums1"
   ]
  },
  {
   "cell_type": "code",
   "execution_count": 40,
   "metadata": {},
   "outputs": [],
   "source": [
    "merged_array = nums1.extend(nums2)"
   ]
  },
  {
   "cell_type": "code",
   "execution_count": 42,
   "metadata": {},
   "outputs": [],
   "source": [
    "merged_array"
   ]
  },
  {
   "cell_type": "code",
   "execution_count": 61,
   "metadata": {},
   "outputs": [],
   "source": [
    "word1 = \"cdf\"\n",
    "word2 = \"a\""
   ]
  },
  {
   "cell_type": "code",
   "execution_count": 44,
   "metadata": {},
   "outputs": [
    {
     "name": "stdout",
     "output_type": "stream",
     "text": [
      "ap\n",
      "apbq\n",
      "apbqcr\n"
     ]
    }
   ],
   "source": [
    "res = \"\"\n",
    "if len(word1) <= len(word2):\n",
    "    for i in range(len(word1)):\n",
    "        res += word1[i] + word2[i] \n",
    "        print(res)"
   ]
  },
  {
   "cell_type": "code",
   "execution_count": 60,
   "metadata": {},
   "outputs": [
    {
     "name": "stdout",
     "output_type": "stream",
     "text": [
      "apbqrs\n"
     ]
    }
   ],
   "source": [
    "res = \"\"\n",
    "if len(word1) <= len(word2):\n",
    "    for i in range(len(word1)):\n",
    "        res += word1[i] + word2[i] \n",
    "    if len(word1) == len(word2):\n",
    "        res = res\n",
    "    else:  \n",
    "        res = res + word2[len(word2)-len(res)//2:]\n",
    "print(res)"
   ]
  },
  {
   "cell_type": "code",
   "execution_count": 53,
   "metadata": {},
   "outputs": [
    {
     "data": {
      "text/plain": [
       "'pqrs'"
      ]
     },
     "execution_count": 53,
     "metadata": {},
     "output_type": "execute_result"
    }
   ],
   "source": [
    "word2[len(word2)-len(res):]"
   ]
  },
  {
   "cell_type": "code",
   "execution_count": 59,
   "metadata": {},
   "outputs": [
    {
     "data": {
      "text/plain": [
       "2"
      ]
     },
     "execution_count": 59,
     "metadata": {},
     "output_type": "execute_result"
    }
   ],
   "source": [
    "len(word2)-len(res)//2"
   ]
  },
  {
   "cell_type": "code",
   "execution_count": 55,
   "metadata": {},
   "outputs": [
    {
     "data": {
      "text/plain": [
       "4"
      ]
     },
     "execution_count": 55,
     "metadata": {},
     "output_type": "execute_result"
    }
   ],
   "source": [
    "len(word2)"
   ]
  },
  {
   "cell_type": "code",
   "execution_count": 56,
   "metadata": {},
   "outputs": [
    {
     "data": {
      "text/plain": [
       "4"
      ]
     },
     "execution_count": 56,
     "metadata": {},
     "output_type": "execute_result"
    }
   ],
   "source": [
    "len(res)"
   ]
  },
  {
   "cell_type": "code",
   "execution_count": 57,
   "metadata": {},
   "outputs": [
    {
     "data": {
      "text/plain": [
       "'apbq'"
      ]
     },
     "execution_count": 57,
     "metadata": {},
     "output_type": "execute_result"
    }
   ],
   "source": [
    "res"
   ]
  },
  {
   "cell_type": "code",
   "execution_count": 85,
   "metadata": {},
   "outputs": [],
   "source": [
    "res =\"\""
   ]
  },
  {
   "cell_type": "code",
   "execution_count": 86,
   "metadata": {},
   "outputs": [],
   "source": [
    "word1 = \"cdf\"\n",
    "word2 = \"a\""
   ]
  },
  {
   "cell_type": "code",
   "execution_count": 87,
   "metadata": {},
   "outputs": [
    {
     "name": "stdout",
     "output_type": "stream",
     "text": [
      "ca\n",
      "\n",
      "\n"
     ]
    }
   ],
   "source": [
    "if len(word1) > len(word2):\n",
    "            for i in range(len(word2)):\n",
    "                res += word1[i] + word2[i] \n",
    "                print(res)\n",
    "                print(\"\\n\")\n",
    "            # res = res + word1[len(word1)-len(res)//2:]"
   ]
  },
  {
   "cell_type": "code",
   "execution_count": 74,
   "metadata": {},
   "outputs": [
    {
     "data": {
      "text/plain": [
       "'f'"
      ]
     },
     "execution_count": 74,
     "metadata": {},
     "output_type": "execute_result"
    }
   ],
   "source": [
    "word1[len(word1)-len(res)//2:]"
   ]
  },
  {
   "cell_type": "code",
   "execution_count": 78,
   "metadata": {},
   "outputs": [
    {
     "data": {
      "text/plain": [
       "3"
      ]
     },
     "execution_count": 78,
     "metadata": {},
     "output_type": "execute_result"
    }
   ],
   "source": [
    "len(word1)"
   ]
  },
  {
   "cell_type": "code",
   "execution_count": 80,
   "metadata": {},
   "outputs": [
    {
     "data": {
      "text/plain": [
       "3"
      ]
     },
     "execution_count": 80,
     "metadata": {},
     "output_type": "execute_result"
    }
   ],
   "source": [
    "len(res)"
   ]
  },
  {
   "cell_type": "code",
   "execution_count": 81,
   "metadata": {},
   "outputs": [
    {
     "data": {
      "text/plain": [
       "'caf'"
      ]
     },
     "execution_count": 81,
     "metadata": {},
     "output_type": "execute_result"
    }
   ],
   "source": [
    "res"
   ]
  },
  {
   "cell_type": "code",
   "execution_count": 93,
   "metadata": {},
   "outputs": [
    {
     "data": {
      "text/plain": [
       "'df'"
      ]
     },
     "execution_count": 93,
     "metadata": {},
     "output_type": "execute_result"
    }
   ],
   "source": [
    "word1[len(word1)-len(res)//2 -1:]"
   ]
  },
  {
   "cell_type": "code",
   "execution_count": 89,
   "metadata": {},
   "outputs": [
    {
     "data": {
      "text/plain": [
       "'ca'"
      ]
     },
     "execution_count": 89,
     "metadata": {},
     "output_type": "execute_result"
    }
   ],
   "source": [
    "res"
   ]
  },
  {
   "cell_type": "code",
   "execution_count": 91,
   "metadata": {},
   "outputs": [
    {
     "data": {
      "text/plain": [
       "'cdf'"
      ]
     },
     "execution_count": 91,
     "metadata": {},
     "output_type": "execute_result"
    }
   ],
   "source": [
    "word1"
   ]
  },
  {
   "cell_type": "code",
   "execution_count": 95,
   "metadata": {},
   "outputs": [
    {
     "data": {
      "text/plain": [
       "2"
      ]
     },
     "execution_count": 95,
     "metadata": {},
     "output_type": "execute_result"
    }
   ],
   "source": [
    "len(word1)-len(res)//2 - 1"
   ]
  },
  {
   "cell_type": "code",
   "execution_count": null,
   "metadata": {},
   "outputs": [],
   "source": [
    "word"
   ]
  },
  {
   "cell_type": "code",
   "execution_count": 102,
   "metadata": {},
   "outputs": [],
   "source": [
    "word1 =\"abcd\"\n",
    "word2 =\"pq\""
   ]
  },
  {
   "cell_type": "code",
   "execution_count": 109,
   "metadata": {},
   "outputs": [],
   "source": [
    "res = \"\""
   ]
  },
  {
   "cell_type": "code",
   "execution_count": 110,
   "metadata": {},
   "outputs": [],
   "source": [
    "if len(word1) > len(word2):\n",
    "    for i in range(len(word2)):\n",
    "        res += word1[i] + word2[i] \n",
    "    res = res + word1[len(word1)-len(word2):]"
   ]
  },
  {
   "cell_type": "code",
   "execution_count": 111,
   "metadata": {},
   "outputs": [
    {
     "data": {
      "text/plain": [
       "'apbqcd'"
      ]
     },
     "execution_count": 111,
     "metadata": {},
     "output_type": "execute_result"
    }
   ],
   "source": [
    "res"
   ]
  },
  {
   "cell_type": "code",
   "execution_count": 99,
   "metadata": {},
   "outputs": [
    {
     "data": {
      "text/plain": [
       "'abcd'"
      ]
     },
     "execution_count": 99,
     "metadata": {},
     "output_type": "execute_result"
    }
   ],
   "source": [
    "word1[len(word1)-len(res)//2 - 1:]"
   ]
  },
  {
   "cell_type": "code",
   "execution_count": 100,
   "metadata": {},
   "outputs": [
    {
     "data": {
      "text/plain": [
       "4"
      ]
     },
     "execution_count": 100,
     "metadata": {},
     "output_type": "execute_result"
    }
   ],
   "source": [
    "len(word1)"
   ]
  },
  {
   "cell_type": "code",
   "execution_count": 101,
   "metadata": {},
   "outputs": [
    {
     "data": {
      "text/plain": [
       "7"
      ]
     },
     "execution_count": 101,
     "metadata": {},
     "output_type": "execute_result"
    }
   ],
   "source": [
    "len(res)"
   ]
  },
  {
   "cell_type": "code",
   "execution_count": null,
   "metadata": {},
   "outputs": [],
   "source": [
    "word1 =\"abcd\"\n",
    "word2 =\"pq\""
   ]
  },
  {
   "cell_type": "code",
   "execution_count": 121,
   "metadata": {},
   "outputs": [],
   "source": [
    "\n"
   ]
  },
  {
   "cell_type": "code",
   "execution_count": 123,
   "metadata": {},
   "outputs": [
    {
     "data": {
      "text/plain": [
       "2"
      ]
     },
     "execution_count": 123,
     "metadata": {},
     "output_type": "execute_result"
    }
   ],
   "source": [
    "len(\"abcd\") - len(\"pq\")"
   ]
  },
  {
   "cell_type": "code",
   "execution_count": 122,
   "metadata": {},
   "outputs": [
    {
     "name": "stdout",
     "output_type": "stream",
     "text": [
      "apbqbcd\n"
     ]
    }
   ],
   "source": [
    "x(\"abcd\",\"pq\")"
   ]
  },
  {
   "cell_type": "code",
   "execution_count": 116,
   "metadata": {},
   "outputs": [
    {
     "name": "stdout",
     "output_type": "stream",
     "text": [
      "caf\n"
     ]
    }
   ],
   "source": [
    "x(\"cdf\",\"a\")"
   ]
  },
  {
   "cell_type": "code",
   "execution_count": 118,
   "metadata": {},
   "outputs": [
    {
     "data": {
      "text/plain": [
       "2"
      ]
     },
     "execution_count": 118,
     "metadata": {},
     "output_type": "execute_result"
    }
   ],
   "source": [
    "len(\"cdf\") - len(\"a\")"
   ]
  },
  {
   "cell_type": "code",
   "execution_count": 126,
   "metadata": {},
   "outputs": [
    {
     "data": {
      "text/plain": [
       "set()"
      ]
     },
     "execution_count": 126,
     "metadata": {},
     "output_type": "execute_result"
    }
   ],
   "source": [
    "s = \"abcd\"\n",
    "t = \"abcde\"\n",
    "\n",
    "set([i for i in s]) - set([j for j in t])\n"
   ]
  },
  {
   "cell_type": "code",
   "execution_count": 131,
   "metadata": {},
   "outputs": [],
   "source": [
    "q=set([i for i in s])"
   ]
  },
  {
   "cell_type": "code",
   "execution_count": 132,
   "metadata": {},
   "outputs": [],
   "source": [
    "w=set([j for j in t])"
   ]
  },
  {
   "cell_type": "code",
   "execution_count": 135,
   "metadata": {},
   "outputs": [
    {
     "data": {
      "text/plain": [
       "\"{'e'}\""
      ]
     },
     "execution_count": 135,
     "metadata": {},
     "output_type": "execute_result"
    }
   ],
   "source": [
    "w-q"
   ]
  },
  {
   "cell_type": "code",
   "execution_count": null,
   "metadata": {},
   "outputs": [],
   "source": []
  }
 ],
 "metadata": {
  "kernelspec": {
   "display_name": "mlenv",
   "language": "python",
   "name": "python3"
  },
  "language_info": {
   "codemirror_mode": {
    "name": "ipython",
    "version": 3
   },
   "file_extension": ".py",
   "mimetype": "text/x-python",
   "name": "python",
   "nbconvert_exporter": "python",
   "pygments_lexer": "ipython3",
   "version": "3.10.9"
  }
 },
 "nbformat": 4,
 "nbformat_minor": 2
}
